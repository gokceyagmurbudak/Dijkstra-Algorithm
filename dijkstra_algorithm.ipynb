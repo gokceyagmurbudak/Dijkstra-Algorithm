{
  "nbformat": 4,
  "nbformat_minor": 0,
  "metadata": {
    "colab": {
      "provenance": []
    },
    "kernelspec": {
      "name": "python3",
      "display_name": "Python 3"
    },
    "language_info": {
      "name": "python"
    }
  },
  "cells": [
    {
      "cell_type": "markdown",
      "source": [
        "# Plotting the Shortest Path with [Dijkstra Algorithm](https://www.freecodecamp.org/news/dijkstras-shortest-path-algorithm-visual-introduction/)"
      ],
      "metadata": {
        "id": "w8RgBv6Pwxif"
      }
    },
    {
      "cell_type": "code",
      "execution_count": null,
      "metadata": {
        "id": "MUOgKt_JwwI9"
      },
      "outputs": [],
      "source": [
        "!pip install osmnx==0.16.1\n",
        "!pip install geopandas==0.9.0\n",
        "!pip install shapely==1.8.0\n",
        "!pip install -U kaleido\n",
        "!pip install networkx\n",
        "!pip install plotly\n",
        "!pip install pandas"
      ]
    },
    {
      "cell_type": "code",
      "source": [
        "import os\n",
        "import networkx as nx\n",
        "import plotly.graph_objects as go\n",
        "import osmnx as ox\n",
        "import pandas as pd\n",
        "import geopandas\n",
        "from shapely.geometry import Point\n",
        "\n",
        "def generate_path(origin_point, target_point, perimeter):\n",
        "    origin_lat, origin_long = origin_point\n",
        "    target_lat, target_long = target_point\n",
        "\n",
        "    # Calculate boundaries\n",
        "    north, south = max(origin_lat, target_lat), min(origin_lat, target_lat)\n",
        "    east, west = max(origin_long, target_long), min(origin_long, target_long)\n",
        "\n",
        "    # Construct road graph\n",
        "    roadgraph = ox.graph_from_bbox(north + perimeter, south - perimeter,\n",
        "                                   east + perimeter, west - perimeter,\n",
        "                                   network_type='bike', simplify=False)\n",
        "\n",
        "    # Get nearest nodes\n",
        "    origin_node = ox.get_nearest_node(roadgraph, origin_point)\n",
        "    target_node = ox.get_nearest_node(roadgraph, target_point)\n",
        "\n",
        "    # Get optimal path via Dijkstra\n",
        "    route = nx.shortest_path(roadgraph, origin_node, target_node,\n",
        "                             weight='length', method='dijkstra')\n",
        "\n",
        "    # Extract path coordinates\n",
        "    lat = []\n",
        "    long = []\n",
        "\n",
        "    for i in route:\n",
        "        point = roadgraph.nodes[i]\n",
        "        long.append(point['x'])\n",
        "        lat.append(point['y'])\n",
        "\n",
        "    # Return the paths\n",
        "    return long, lat\n",
        "\n",
        "    return path_coordinates"
      ],
      "metadata": {
        "id": "QT8TXPcUwwwr"
      },
      "execution_count": null,
      "outputs": []
    },
    {
      "cell_type": "code",
      "source": [
        "import folium\n",
        "\n",
        "def plot_map(origin_point, target_points, long, lat):\n",
        "    # Create a Folium map centered around the origin point\n",
        "    map_center = [origin_point[0], origin_point[1]]\n",
        "    m = folium.Map(location=map_center, zoom_start=12, control_scale=True)\n",
        "\n",
        "    # Create FeatureGroups for different layers\n",
        "    origin_layer = folium.FeatureGroup(name='Origin')\n",
        "    destination_layer = folium.FeatureGroup(name='Destinations')\n",
        "    path_layer = folium.FeatureGroup(name='Paths')\n",
        "\n",
        "    # Add origin point marker with popup to the origin layer\n",
        "    folium.Marker(location=origin_point, popup=f'Origin: {origin_point}', icon=folium.Icon(color='blue')).add_to(origin_layer)\n",
        "\n",
        "    # Add target points markers with popups to the destination layer\n",
        "    for i, target_point in enumerate(target_points):\n",
        "        folium.Marker(location=target_point, popup=f'Destination {i+1}: {target_point}', icon=folium.Icon(color='green')).add_to(destination_layer)\n",
        "\n",
        "    # Add optimal paths to the path layer\n",
        "    for i in range(len(lat)):\n",
        "        path = list(zip(lat[i], long[i]))\n",
        "        folium.PolyLine(locations=path, color='red').add_to(path_layer)\n",
        "\n",
        "    # Add FeatureGroups to the map\n",
        "    origin_layer.add_to(m)\n",
        "    destination_layer.add_to(m)\n",
        "    path_layer.add_to(m)\n",
        "\n",
        "    # Add Layer Control\n",
        "    folium.LayerControl().add_to(m)\n",
        "\n",
        "    # Save map\n",
        "    m.save('dijkstra_map.html')\n",
        "\n",
        "    # Display map\n",
        "    display(m)"
      ],
      "metadata": {
        "id": "P_6t2VyoxOtj"
      },
      "execution_count": null,
      "outputs": []
    },
    {
      "cell_type": "code",
      "source": [
        "# Data Import\n",
        "df_coordinates = pd.read_csv('sample_data/coordinates.csv')\n",
        "df = df_coordinates[['LATITUDE', 'LONGITUDE']]\n",
        "\n",
        "# Create GeoDataFrame with point geometries\n",
        "geometry = [Point(lon, lat) for lat, lon in zip(df['LATITUDE'], df['LONGITUDE'])]\n",
        "geo_df = geopandas.GeoDataFrame(df, geometry=geometry)\n",
        "\n",
        "# Format target geocoordinates\n",
        "target_points = [(lat, lon) for lon, lat in zip(df['LONGITUDE'], df['LATITUDE'])]\n",
        "\n",
        "# Set origin geocoordinate\n",
        "origin_point = (49.78728, 9.97872)\n",
        "\n",
        "# Calculate paths\n",
        "paths_longitude = []\n",
        "paths_latitude = []\n",
        "perimeter = 0.10\n",
        "\n",
        "for target_point in target_points:\n",
        "    path_lon, path_lat = generate_path(origin_point, target_point, perimeter)\n",
        "    paths_longitude.append(path_lon)\n",
        "    paths_latitude.append(path_lat)\n",
        "\n",
        "plot_map(origin_point, target_points, paths_longitude, paths_latitude)\n"
      ],
      "metadata": {
        "id": "SBoB5_unxROP"
      },
      "execution_count": null,
      "outputs": []
    },
    {
      "cell_type": "markdown",
      "source": [
        "## Haversine\n",
        "\n",
        "Calculate the distance between the origin and all destination points using the Haversine formula, which calculates the great-circle distance between two points on the Earth's surface given their longitudes and latitudes."
      ],
      "metadata": {
        "id": "ykTAZl8J0BHX"
      }
    },
    {
      "cell_type": "code",
      "source": [
        "from math import radians, sin, cos, sqrt, atan2\n",
        "\n",
        "def haversine(lat1, lon1, lat2, lon2):\n",
        "    # Convert latitude and longitude from degrees to radians\n",
        "    lat1 = radians(lat1)\n",
        "    lon1 = radians(lon1)\n",
        "    lat2 = radians(lat2)\n",
        "    lon2 = radians(lon2)\n",
        "\n",
        "    # Haversine formula\n",
        "    dlon = lon2 - lon1\n",
        "    dlat = lat2 - lat1\n",
        "    a = sin(dlat / 2)**2 + cos(lat1) * cos(lat2) * sin(dlon / 2)**2\n",
        "    c = 2 * atan2(sqrt(a), sqrt(1 - a))\n",
        "    distance = 6371 * c  # Radius of the Earth in kilometers\n",
        "\n",
        "    return distance\n",
        "\n",
        "def calculate_distances(origin_point, target_points):\n",
        "    distances = []\n",
        "    for target_point in target_points:\n",
        "        distance = haversine(origin_point[0], origin_point[1], target_point[0], target_point[1])\n",
        "        distances.append(distance)\n",
        "    return distances"
      ],
      "metadata": {
        "id": "11krhZ-w0AsU"
      },
      "execution_count": null,
      "outputs": []
    },
    {
      "cell_type": "code",
      "source": [
        "distances = calculate_distances(origin_point, target_points)\n",
        "for i, distance in enumerate(distances):\n",
        "    print(f\"Distance from origin to destination {i+1}: {distance:.2f} km\")"
      ],
      "metadata": {
        "id": "93JXg6gkxuzq"
      },
      "execution_count": null,
      "outputs": []
    }
  ]
}